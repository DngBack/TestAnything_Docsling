{
 "cells": [
  {
   "cell_type": "code",
   "execution_count": null,
   "metadata": {},
   "outputs": [],
   "source": [
    "# backend/app.py\n",
    "from fastapi import FastAPI, UploadFile, Form\n",
    "from pydantic import BaseModel\n",
    "import requests\n",
    "from dotenv import load_dotenv\n",
    "from dotenv import find_dotenv\n",
    "import os\n",
    "from openai import AzureOpenAI\n",
    "load_dotenv(find_dotenv('.env'))\n",
    "import asyncio\n",
    "app = FastAPI()\n",
    "with open(\"/home/hoang.minh.tuanb@sun-asterisk.com/Downloads/Tôi đang mất điện thoại thì liệu có thể làm đơn được không.txt\", 'r', encoding='utf-8') as f:\n",
    "    text = f.read()\n",
    "class ChatRequest(BaseModel):\n",
    "    message: str\n",
    "\n",
    "AZURE_OPENAI_ENDPOINT = os.getenv(\"GPT4O__ENDPOINT\")\n",
    "AZURE_OPENAI_KEY = os.getenv(\"GPT4O__KEY\")\n",
    "DEPLOYMENT_NAME = os.getenv(\"GPT4O__DEPLOYMENT_NAME\")\n",
    "API_VERSION = os.getenv(\"GPT4O__API_VERSION\")\n",
    "\n",
    "client = AzureOpenAI(\n",
    "  api_key = AZURE_OPENAI_KEY,  \n",
    "  api_version = API_VERSION,\n",
    "  azure_endpoint = AZURE_OPENAI_ENDPOINT,\n",
    ")\n",
    "\n",
    "def get_openai_response(prompt: str):\n",
    "    response = client.chat.completions.create(\n",
    "        model=\"GPT4oMini\",\n",
    "        messages=[\n",
    "            {\"role\": \"system\", \"content\": text},\n",
    "            {\"role\": \"user\", \"content\": \"Tôi đang mất điện thoại thì liệu có thể làm đơn được không?\"}\n",
    "        ],\n",
    "        # max_tokens=300,            # Limit the output length\n",
    "        temperature=0.0,           # Adjust creativity\n",
    "        frequency_penalty=0.0,     # Reduce repetition\n",
    "        presence_penalty=0.0,\n",
    "        n=1\n",
    "    )\n",
    "    return response\n",
    "\n",
    "async def chat_endpoint(chat_request: ChatRequest):\n",
    "    print(f\"{AZURE_OPENAI_ENDPOINT}/openai/deployments/{DEPLOYMENT_NAME}/completions?api-version={API_VERSION}\")\n",
    "    response = get_openai_response(chat_request.message)\n",
    "    return {\"response\": response}\n",
    "\n",
    "result = await chat_endpoint(ChatRequest(message=text))\n",
    "print(result['response'].choices[0].message.content)"
   ]
  }
 ],
 "metadata": {
  "language_info": {
   "name": "python"
  }
 },
 "nbformat": 4,
 "nbformat_minor": 2
}
